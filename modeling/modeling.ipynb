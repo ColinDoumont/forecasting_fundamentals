{
 "cells": [
  {
   "cell_type": "code",
   "execution_count": 1,
   "metadata": {},
   "outputs": [],
   "source": [
    "# Importing required packages.\n",
    "import pandas as pd\n",
    "import tensorflow as tf\n",
    "from tensorflow.keras.models import Sequential, load_model\n",
    "from tensorflow.keras.layers import Dense, BatchNormalization, Dropout\n",
    "from tensorflow.keras.callbacks import EarlyStopping, ModelCheckpoint\n",
    "from tensorflow.keras.optimizers import Nadam\n",
    "import tensorflow.keras.backend as K\n",
    "from matplotlib import pyplot"
   ]
  },
  {
   "cell_type": "code",
   "execution_count": 2,
   "metadata": {},
   "outputs": [
    {
     "name": "stdout",
     "output_type": "stream",
     "text": [
      "Num GPUs Available:  1\n"
     ]
    }
   ],
   "source": [
    "# Checking that Tensorflow has access to the GPU power.\n",
    "print(\"Num GPUs Available: \", len(tf.config.list_physical_devices('GPU')))"
   ]
  },
  {
   "cell_type": "code",
   "execution_count": 3,
   "metadata": {},
   "outputs": [],
   "source": [
    "# Reading all dataframes needed for modeling.\n",
    "X_train = pd.read_pickle(\"../preprocessing/X_train.pkl\")\n",
    "X_val = pd.read_pickle(\"../preprocessing/X_val.pkl\")\n",
    "X_test = pd.read_pickle(\"../preprocessing/X_test.pkl\")\n",
    "y_train = pd.read_pickle(\"../preprocessing/y_train.pkl\")\n",
    "y_val = pd.read_pickle(\"../preprocessing/y_val.pkl\")\n",
    "y_test = pd.read_pickle(\"../preprocessing/y_test.pkl\")"
   ]
  },
  {
   "cell_type": "code",
   "execution_count": 4,
   "metadata": {},
   "outputs": [],
   "source": [
    "# Defining custom MSE function.\n",
    "def custom_mse(y_true,y_pred):\n",
    "   \n",
    "    index = 4\n",
    "    alpha = 0.75\n",
    "   \n",
    "    ncol = y_true.shape[1]\n",
    "    alpha1 = alpha\n",
    "    alpha0 = (1-alpha)/(ncol-1.0)\n",
    "\n",
    "    loss = K.square(y_pred-y_true)\n",
    "\n",
    "    weights = []\n",
    "    for i in range(ncol):\n",
    "        if (i == index):\n",
    "            weights.append(alpha1)\n",
    "        else: \n",
    "            weights.append(alpha0)\n",
    "\n",
    "    loss = loss * weights\n",
    "\n",
    "    return K.mean(K.sum(loss, axis=1))"
   ]
  },
  {
   "cell_type": "code",
   "execution_count": 5,
   "metadata": {},
   "outputs": [
    {
     "name": "stdout",
     "output_type": "stream",
     "text": [
      "Metal device set to: NVIDIA GeForce GT 750M\n",
      "\n",
      "systemMemory: 16.00 GB\n",
      "maxCacheSize: 1.00 GB\n",
      "\n"
     ]
    },
    {
     "name": "stderr",
     "output_type": "stream",
     "text": [
      "2022-06-20 10:12:35.386046: I tensorflow/core/platform/cpu_feature_guard.cc:151] This TensorFlow binary is optimized with oneAPI Deep Neural Network Library (oneDNN) to use the following CPU instructions in performance-critical operations:  AVX2 FMA\n",
      "To enable them in other operations, rebuild TensorFlow with the appropriate compiler flags.\n",
      "2022-06-20 10:12:35.386719: I tensorflow/core/common_runtime/pluggable_device/pluggable_device_factory.cc:305] Could not identify NUMA node of platform GPU ID 0, defaulting to 0. Your kernel may not have been built with NUMA support.\n",
      "2022-06-20 10:12:35.386934: I tensorflow/core/common_runtime/pluggable_device/pluggable_device_factory.cc:271] Created TensorFlow device (/job:localhost/replica:0/task:0/device:GPU:0 with 0 MB memory) -> physical PluggableDevice (device: 0, name: METAL, pci bus id: <undefined>)\n"
     ]
    }
   ],
   "source": [
    "# Defining the Keras model.\n",
    "model = Sequential()\n",
    "model.add(Dense(16, input_dim=100, activation='relu'))\n",
    "model.add(BatchNormalization())\n",
    "model.add(Dropout(0.15))\n",
    "model.add(Dense(16, activation='relu'))\n",
    "model.add(BatchNormalization())\n",
    "model.add(Dropout(0.15))\n",
    "model.add(Dense(16, activation='linear'))\n",
    "\n",
    "opt = Nadam(learning_rate=0.0003, clipnorm=1.0)\n",
    "\n",
    "model.compile(loss=custom_mse, optimizer=opt, metrics=custom_mse)"
   ]
  },
  {
   "cell_type": "code",
   "execution_count": 6,
   "metadata": {},
   "outputs": [
    {
     "name": "stdout",
     "output_type": "stream",
     "text": [
      "Model: \"sequential\"\n",
      "_________________________________________________________________\n",
      " Layer (type)                Output Shape              Param #   \n",
      "=================================================================\n",
      " dense (Dense)               (None, 16)                1616      \n",
      "                                                                 \n",
      " batch_normalization (BatchN  (None, 16)               64        \n",
      " ormalization)                                                   \n",
      "                                                                 \n",
      " dropout (Dropout)           (None, 16)                0         \n",
      "                                                                 \n",
      " dense_1 (Dense)             (None, 16)                272       \n",
      "                                                                 \n",
      " batch_normalization_1 (Batc  (None, 16)               64        \n",
      " hNormalization)                                                 \n",
      "                                                                 \n",
      " dropout_1 (Dropout)         (None, 16)                0         \n",
      "                                                                 \n",
      " dense_2 (Dense)             (None, 16)                272       \n",
      "                                                                 \n",
      "=================================================================\n",
      "Total params: 2,288\n",
      "Trainable params: 2,224\n",
      "Non-trainable params: 64\n",
      "_________________________________________________________________\n"
     ]
    }
   ],
   "source": [
    "# Inspecting the model structure.\n",
    "model.summary()"
   ]
  },
  {
   "cell_type": "code",
   "execution_count": 7,
   "metadata": {},
   "outputs": [
    {
     "name": "stderr",
     "output_type": "stream",
     "text": [
      "2022-06-20 10:12:38.149539: I tensorflow/core/grappler/optimizers/custom_graph_optimizer_registry.cc:112] Plugin optimizer for device_type GPU is enabled.\n",
      "2022-06-20 10:13:04.471885: I tensorflow/core/grappler/optimizers/custom_graph_optimizer_registry.cc:112] Plugin optimizer for device_type GPU is enabled.\n"
     ]
    },
    {
     "name": "stdout",
     "output_type": "stream",
     "text": [
      "\n",
      "Epoch 00001: val_loss improved from inf to 1.43036, saving model to best_model.h5\n",
      "\n",
      "Epoch 00002: val_loss improved from 1.43036 to 1.17847, saving model to best_model.h5\n",
      "\n",
      "Epoch 00003: val_loss improved from 1.17847 to 1.04607, saving model to best_model.h5\n",
      "\n",
      "Epoch 00004: val_loss improved from 1.04607 to 1.02085, saving model to best_model.h5\n",
      "\n",
      "Epoch 00005: val_loss improved from 1.02085 to 0.99889, saving model to best_model.h5\n",
      "\n",
      "Epoch 00006: val_loss improved from 0.99889 to 0.97177, saving model to best_model.h5\n",
      "\n",
      "Epoch 00007: val_loss improved from 0.97177 to 0.94144, saving model to best_model.h5\n",
      "\n",
      "Epoch 00008: val_loss improved from 0.94144 to 0.92092, saving model to best_model.h5\n",
      "\n",
      "Epoch 00009: val_loss did not improve from 0.92092\n",
      "\n",
      "Epoch 00010: val_loss improved from 0.92092 to 0.91345, saving model to best_model.h5\n",
      "\n",
      "Epoch 00011: val_loss improved from 0.91345 to 0.91315, saving model to best_model.h5\n",
      "\n",
      "Epoch 00012: val_loss improved from 0.91315 to 0.90322, saving model to best_model.h5\n",
      "\n",
      "Epoch 00013: val_loss did not improve from 0.90322\n",
      "\n",
      "Epoch 00014: val_loss did not improve from 0.90322\n",
      "\n",
      "Epoch 00015: val_loss improved from 0.90322 to 0.89832, saving model to best_model.h5\n",
      "\n",
      "Epoch 00016: val_loss did not improve from 0.89832\n",
      "\n",
      "Epoch 00017: val_loss did not improve from 0.89832\n",
      "\n",
      "Epoch 00018: val_loss did not improve from 0.89832\n",
      "\n",
      "Epoch 00019: val_loss did not improve from 0.89832\n",
      "\n",
      "Epoch 00020: val_loss did not improve from 0.89832\n",
      "\n",
      "Epoch 00021: val_loss did not improve from 0.89832\n",
      "\n",
      "Epoch 00022: val_loss did not improve from 0.89832\n",
      "\n",
      "Epoch 00023: val_loss did not improve from 0.89832\n",
      "\n",
      "Epoch 00024: val_loss did not improve from 0.89832\n",
      "\n",
      "Epoch 00025: val_loss did not improve from 0.89832\n",
      "\n",
      "Epoch 00026: val_loss did not improve from 0.89832\n",
      "\n",
      "Epoch 00027: val_loss did not improve from 0.89832\n",
      "\n",
      "Epoch 00028: val_loss did not improve from 0.89832\n",
      "\n",
      "Epoch 00029: val_loss did not improve from 0.89832\n",
      "\n",
      "Epoch 00030: val_loss did not improve from 0.89832\n",
      "\n",
      "Epoch 00031: val_loss did not improve from 0.89832\n",
      "\n",
      "Epoch 00032: val_loss did not improve from 0.89832\n",
      "\n",
      "Epoch 00033: val_loss did not improve from 0.89832\n",
      "\n",
      "Epoch 00034: val_loss did not improve from 0.89832\n",
      "\n",
      "Epoch 00035: val_loss did not improve from 0.89832\n",
      "Epoch 00035: early stopping\n"
     ]
    }
   ],
   "source": [
    "# Defining simple early stopping criterion.\n",
    "es = EarlyStopping(monitor='val_loss', mode='min', verbose=1, patience=20)\n",
    "mc = ModelCheckpoint('best_model.h5', monitor='val_loss', mode='min', verbose=1, save_best_only=True)\n",
    "\n",
    "# Fitting the model.\n",
    "history = model.fit(X_train, y_train, validation_data=(X_val, y_val), epochs=500, verbose=0, callbacks=[es, mc], batch_size=250)"
   ]
  },
  {
   "cell_type": "code",
   "execution_count": 8,
   "metadata": {},
   "outputs": [
    {
     "name": "stderr",
     "output_type": "stream",
     "text": [
      "2022-06-20 10:27:01.627020: I tensorflow/core/grappler/optimizers/custom_graph_optimizer_registry.cc:112] Plugin optimizer for device_type GPU is enabled.\n"
     ]
    },
    {
     "name": "stdout",
     "output_type": "stream",
     "text": [
      "Train: 0.986, Val: 0.898 and Test: 0.863\n"
     ]
    }
   ],
   "source": [
    "# Loading the saved model.\n",
    "saved_model = load_model('best_model.h5', custom_objects={'custom_mse': custom_mse})\n",
    "\n",
    "# Evaluating the model.\n",
    "_, train_acc = saved_model.evaluate(X_train, y_train, verbose=0)\n",
    "_, val_acc = saved_model.evaluate(X_val, y_val, verbose=0)\n",
    "_, test_acc = saved_model.evaluate(X_test, y_test, verbose=0)\n",
    "print('Train: %.3f, Val: %.3f and Test: %.3f' % (train_acc, val_acc, test_acc))"
   ]
  },
  {
   "cell_type": "code",
   "execution_count": 9,
   "metadata": {},
   "outputs": [
    {
     "data": {
      "image/png": "[encoded data removed]",
      "text/plain": [
       "<Figure size 432x288 with 1 Axes>"
      ]
     },
     "metadata": {
      "needs_background": "light"
     },
     "output_type": "display_data"
    }
   ],
   "source": [
    "# Plotting training history.\n",
    "pyplot.plot(history.history['loss'], label='train_mse')\n",
    "pyplot.plot(history.history['val_loss'], label='val_mse')\n",
    "pyplot.legend()\n",
    "pyplot.show()"
   ]
  }
 ],
 "metadata": {
  "kernelspec": {
   "display_name": "Python 3.8.12 ('tf-metal')",
   "language": "python",
   "name": "python3"
  },
  "language_info": {
   "codemirror_mode": {
    "name": "ipython",
    "version": 3
   },
   "file_extension": ".py",
   "mimetype": "text/x-python",
   "name": "python",
   "nbconvert_exporter": "python",
   "pygments_lexer": "ipython3",
   "version": "3.8.12"
  },
  "orig_nbformat": 4,
  "vscode": {
   "interpreter": {
    "hash": "4a3746f043308ce78f6e528b7a7d997ffd392c70e89fa08d109e0d41a5b7a577"
   }
  }
 },
 "nbformat": 4,
 "nbformat_minor": 2
}
